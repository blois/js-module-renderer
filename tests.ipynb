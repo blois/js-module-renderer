{
 "cells": [
  {
   "cell_type": "code",
   "execution_count": 1,
   "metadata": {},
   "outputs": [],
   "source": [
    "from IPython.display import DisplayObject\n",
    "import base64\n",
    "\n",
    "class ExtensibleModule(DisplayObject):\n",
    "    _MIME_TYPE = 'application/vnd.jupyter.extensible.alpha+json'\n",
    "    \n",
    "    def __init__(self, module=None, url=None):\n",
    "        if module and url:\n",
    "            raise ValueError('Cannot specify both module and url')\n",
    "        if not module and not url:\n",
    "            raise ValueError('Must specify either module or url')\n",
    "        if module:\n",
    "            url = 'data:text/javascript;base64,' + base64.b64encode(module.encode('utf-8')).decode('utf-8') \n",
    "        self._url = url\n",
    "        self.data = {}\n",
    "    \n",
    "    def _repr_mimebundle_(self, include=None, exclude=None):\n",
    "        mime_bundle = {} \n",
    "        mime_bundle[ExtensibleModule._MIME_TYPE] = {'url': self._url}\n",
    "        for key in self.data.keys():\n",
    "            mime_bundle[key] = self.data[key]\n",
    "        return mime_bundle\n",
    "        \n",
    "    def _repr_javascript_module_(self):\n",
    "        return {'url': 'something'}"
   ]
  },
  {
   "cell_type": "markdown",
   "metadata": {},
   "source": [
    "## Can render basic content"
   ]
  },
  {
   "cell_type": "code",
   "execution_count": 2,
   "metadata": {},
   "outputs": [
    {
     "data": {
      "application/vnd.jupyter.extensible.alpha+json": {
       "url": "data:text/javascript;base64,CmV4cG9ydCBmdW5jdGlvbiByZW5kZXJGdW5jdGlvbihhcmdzKSB7CiAgICBjb25zdCBkaXYgPSBkb2N1bWVudC5jcmVhdGVFbGVtZW50KCdkaXYnKTsKICAgIGRpdi5zdHlsZS5iYWNrZ3JvdW5kID0gJ2xpbWUnOwogICAgZGl2LnRleHRDb250ZW50ID0gJ3Bhc3NlZCc7CiAgICBhcmdzLm5vZGUuYXBwZW5kQ2hpbGQoZGl2KTsKfQo="
      },
      "text/plain": [
       "<__main__.ExtensibleModule object>"
      ]
     },
     "execution_count": 2,
     "metadata": {},
     "output_type": "execute_result"
    }
   ],
   "source": [
    "ExtensibleModule(module='''\n",
    "export function renderFunction(args) {\n",
    "    const div = document.createElement('div');\n",
    "    div.style.background = 'lime';\n",
    "    div.textContent = 'passed';\n",
    "    args.node.appendChild(div);\n",
    "}\n",
    "''')"
   ]
  },
  {
   "cell_type": "markdown",
   "metadata": {},
   "source": [
    "## Can use `waitUntil` to pause processing of subsequent outputs"
   ]
  },
  {
   "cell_type": "code",
   "execution_count": 3,
   "metadata": {},
   "outputs": [
    {
     "data": {
      "application/javascript": [
       "window.nextOutputRendered = false"
      ],
      "text/plain": [
       "<IPython.core.display.Javascript object>"
      ]
     },
     "metadata": {},
     "output_type": "display_data"
    },
    {
     "data": {
      "application/vnd.jupyter.extensible.alpha+json": {
       "url": "data:text/javascript;base64,CmV4cG9ydCBhc3luYyBmdW5jdGlvbiByZW5kZXJGdW5jdGlvbihvcHRpb25zKSB7CiAgICBjb25zdCBwcm9taXNlID0gbmV3IFByb21pc2UoKHJlc29sdmUpID0+IHNldFRpbWVvdXQocmVzb2x2ZSwgMTAwMCkpOwogICAgb3B0aW9ucy5kYXRhLndhaXRVbnRpbChwcm9taXNlKTsKICAgIGF3YWl0IHByb21pc2U7CiAgICBpZiAod2luZG93Lm5leHRPdXRwdXRSZW5kZXJlZCkgewogICAgICAgIGNvbnN0IGRpdiA9IGRvY3VtZW50LmNyZWF0ZUVsZW1lbnQoJ2RpdicpOwogICAgICAgIGRpdi5zdHlsZS5iYWNrZ3JvdW5kID0gJ3JlZCc7CiAgICAgICAgZGl2LnRleHRDb250ZW50ID0gJ2ZhaWxlZDogZXhwZWN0ZWQgc3Vic2VxdWVudCBvdXRwdXRzIHRvIHdhaXQgZm9yIHRoaXMuJzsKICAgICAgICBvcHRpb25zLm5vZGUuYXBwZW5kQ2hpbGQoZGl2KTsKICAgIH0gZWxzZSB7CiAgICAgICAgY29uc3QgZGl2ID0gZG9jdW1lbnQuY3JlYXRlRWxlbWVudCgnZGl2Jyk7CiAgICAgICAgZGl2LnN0eWxlLmJhY2tncm91bmQgPSAnIzg4RkY4OCc7CiAgICAgICAgZGl2LnRleHRDb250ZW50ID0gJ3Bhc3NlZCc7CiAgICAgICAgb3B0aW9ucy5ub2RlLmFwcGVuZENoaWxkKGRpdik7CiAgICB9Cn0K"
      },
      "text/plain": [
       "<__main__.ExtensibleModule object>"
      ]
     },
     "metadata": {},
     "output_type": "display_data"
    },
    {
     "data": {
      "application/javascript": [
       "window.nextOutputRendered = true"
      ],
      "text/plain": [
       "<IPython.core.display.Javascript object>"
      ]
     },
     "metadata": {},
     "output_type": "display_data"
    }
   ],
   "source": [
    "from IPython.display import Javascript\n",
    "display(Javascript('window.nextOutputRendered = false'))\n",
    "display(ExtensibleModule(module='''\n",
    "export async function renderFunction(options) {\n",
    "    const promise = new Promise((resolve) => setTimeout(resolve, 1000));\n",
    "    options.data.waitUntil(promise);\n",
    "    await promise;\n",
    "    if (window.nextOutputRendered) {\n",
    "        const div = document.createElement('div');\n",
    "        div.style.background = 'red';\n",
    "        div.textContent = 'failed: expected subsequent outputs to wait for this.';\n",
    "        options.node.appendChild(div);\n",
    "    } else {\n",
    "        const div = document.createElement('div');\n",
    "        div.style.background = '#88FF88';\n",
    "        div.textContent = 'passed';\n",
    "        options.node.appendChild(div);\n",
    "    }\n",
    "}\n",
    "'''))\n",
    "display(Javascript('window.nextOutputRendered = true'))"
   ]
  },
  {
   "cell_type": "markdown",
   "metadata": {},
   "source": [
    "## Can access data of different mime types"
   ]
  },
  {
   "cell_type": "code",
   "execution_count": 36,
   "metadata": {},
   "outputs": [
    {
     "data": {
      "application/vnd.jupyter.extensible.alpha+json": {
       "url": "data:text/javascript;base64,CmV4cG9ydCBmdW5jdGlvbiByZW5kZXJGdW5jdGlvbihvcHRpb25zKSB7CiAgICBjb25zdCBwbGFpblRleHQgPSBvcHRpb25zLmRhdGEuZGF0YVsndGV4dC9wbGFpbiddOwogICAgaWYgKHBsYWluVGV4dCAhPSAndGhlIHRleHQgdmFsdWUnKSB7CiAgICAgICAgY29uc3QgZGl2ID0gZG9jdW1lbnQuY3JlYXRlRWxlbWVudCgnZGl2Jyk7CiAgICAgICAgZGl2LnN0eWxlLmJhY2tncm91bmQgPSAncmVkJzsKICAgICAgICBkaXYudGV4dENvbnRlbnQgPSBgRXhwZWN0ZWQgdGhlIHRleHQgdG8gYmUgInRoZSB0ZXh0IHZhbHVlIiBidXQgd2FzICR7cGxhaW5UZXh0fWA7CiAgICAgICAgb3B0aW9ucy5ub2RlLmFwcGVuZENoaWxkKGRpdik7CiAgICB9IGVsc2UgewogICAgICAgIGNvbnN0IGRpdiA9IGRvY3VtZW50LmNyZWF0ZUVsZW1lbnQoJ2RpdicpOwogICAgICAgIGRpdi5zdHlsZS5iYWNrZ3JvdW5kID0gJ2xpbWUnOwogICAgICAgIGRpdi50ZXh0Q29udGVudCA9ICdwYXNzZWQnOwogICAgICAgIG9wdGlvbnMubm9kZS5hcHBlbmRDaGlsZChkaXYpOwogICAgfQp9Cg=="
      },
      "text/plain": [
       "the text value"
      ]
     },
     "execution_count": 36,
     "metadata": {},
     "output_type": "execute_result"
    }
   ],
   "source": [
    "data = ExtensibleModule(module='''\n",
    "export function renderFunction(options) {\n",
    "    const plainText = options.data.data['text/plain'];\n",
    "    if (plainText != 'the text value') {\n",
    "        const div = document.createElement('div');\n",
    "        div.style.background = 'red';\n",
    "        div.textContent = `Expected the text to be \"the text value\" but was ${plainText}`;\n",
    "        options.node.appendChild(div);\n",
    "    } else {\n",
    "        const div = document.createElement('div');\n",
    "        div.style.background = 'lime';\n",
    "        div.textContent = 'passed';\n",
    "        options.node.appendChild(div);\n",
    "    }\n",
    "}\n",
    "''')\n",
    "data.data['text/plain'] = 'the text value'\n",
    "data"
   ]
  },
  {
   "cell_type": "markdown",
   "metadata": {},
   "source": [
    "## Does not leak implementation details"
   ]
  },
  {
   "cell_type": "code",
   "execution_count": 5,
   "metadata": {},
   "outputs": [
    {
     "data": {
      "application/vnd.jupyter.extensible.alpha+json": {
       "url": "data:text/javascript;base64,CmV4cG9ydCBmdW5jdGlvbiByZW5kZXJGdW5jdGlvbihvcHRpb25zKSB7CiAgICBjb25zdCBrZXlzID0gT2JqZWN0LmtleXMob3B0aW9ucykuc29ydCgpOwogICAgZnVuY3Rpb24gZmFpbChyZWFzb24pIHsKICAgICAgICBjb25zdCBkaXYgPSBkb2N1bWVudC5jcmVhdGVFbGVtZW50KCdkaXYnKTsKICAgICAgICBkaXYuc3R5bGUuYmFja2dyb3VuZCA9ICdyZWQnOwogICAgICAgIGRpdi50ZXh0Q29udGVudCA9IHJlYXNvbjsKICAgICAgICBvcHRpb25zLm5vZGUuYXBwZW5kQ2hpbGQoZGl2KTsKICAgICAgICB0aHJvdyBuZXcgRXJyb3IoJ2ZhaWxlZCcpOwogICAgfQogICAgCiAgICBmdW5jdGlvbiBhc3NlcnRPbmx5SGFzS2V5cyhvYmplY3QsIGV4cGVjdGVkKSB7CiAgICAgICAgY29uc3QgYWN0dWFsID0gT2JqZWN0LmtleXMob2JqZWN0KS5zb3J0KCk7CiAgICAgICAgZXhwZWN0ZWQgPSBleHBlY3RlZC5zb3J0KCk7CiAgICAgICAgaWYgKGFjdHVhbC5sZW5ndGggIT0gZXhwZWN0ZWQubGVuZ3RoKSB7CiAgICAgICAgICAgIGZhaWwoYEV4cGVjdGVkIGFycmF5cyB0byBiZSBlcXVhbDogWyR7YWN0dWFsLmpvaW4oJywnKX1dLCBbJHtleHBlY3RlZC5qb2luKCcsJyl9XWApOwogICAgICAgIH0KICAgICAgICBmb3IgKGxldCBpID0gMDsgaSA8IGFjdHVhbC5sZW5ndGg7ICsraSkgewogICAgICAgICAgICBpZiAoYWN0dWFsW2ldICE9IGV4cGVjdGVkW2ldKSB7CiAgICAgICAgICAgICAgICBmYWlsKGBFeHBlY3RlZCBhcnJheXMgdG8gYmUgZXF1YWw6IFske2FjdHVhbC5qb2luKCcsJyl9XSwgWyR7ZXhwZWN0ZWQuam9pbignLCcpfV1gKTsKICAgICAgICAgICAgfQogICAgICAgIH0KICAgIH0KICAgIGFzc2VydE9ubHlIYXNLZXlzKG9wdGlvbnMsIFsnY3JlYXRlQ29tbScsICdkYXRhJywgJ2RhdGFVcGRhdGVzJywgJ25vZGUnLCAnbm9kZVVwZGF0ZXMnXSk7CiAgICBhc3NlcnRPbmx5SGFzS2V5cyhvcHRpb25zLmRhdGEsIFsnZGF0YScsICdtZXRhZGF0YScsICd3YWl0VW50aWwnXSk7CiAgICBjb25zdCBkaXYgPSBkb2N1bWVudC5jcmVhdGVFbGVtZW50KCdkaXYnKTsKICAgIGRpdi5zdHlsZS5iYWNrZ3JvdW5kID0gJyM4OEZGODgnOwogICAgZGl2LnRleHRDb250ZW50ID0gJ3Bhc3NlZCc7CiAgICBvcHRpb25zLm5vZGUuYXBwZW5kQ2hpbGQoZGl2KTsKfQo="
      },
      "text/plain": [
       "<__main__.ExtensibleModule object>"
      ]
     },
     "execution_count": 5,
     "metadata": {},
     "output_type": "execute_result"
    }
   ],
   "source": [
    "ExtensibleModule(module='''\n",
    "export function renderFunction(options) {\n",
    "    const keys = Object.keys(options).sort();\n",
    "    function fail(reason) {\n",
    "        const div = document.createElement('div');\n",
    "        div.style.background = 'red';\n",
    "        div.textContent = reason;\n",
    "        options.node.appendChild(div);\n",
    "        throw new Error('failed');\n",
    "    }\n",
    "    \n",
    "    function assertOnlyHasKeys(object, expected) {\n",
    "        const actual = Object.keys(object).sort();\n",
    "        expected = expected.sort();\n",
    "        if (actual.length != expected.length) {\n",
    "            fail(`Expected arrays to be equal: [${actual.join(',')}], [${expected.join(',')}]`);\n",
    "        }\n",
    "        for (let i = 0; i < actual.length; ++i) {\n",
    "            if (actual[i] != expected[i]) {\n",
    "                fail(`Expected arrays to be equal: [${actual.join(',')}], [${expected.join(',')}]`);\n",
    "            }\n",
    "        }\n",
    "    }\n",
    "    assertOnlyHasKeys(options, ['createComm', 'data', 'dataUpdates', 'node', 'nodeUpdates']);\n",
    "    assertOnlyHasKeys(options.data, ['data', 'metadata', 'waitUntil']);\n",
    "    const div = document.createElement('div');\n",
    "    div.style.background = '#88FF88';\n",
    "    div.textContent = 'passed';\n",
    "    options.node.appendChild(div);\n",
    "}\n",
    "''')"
   ]
  },
  {
   "cell_type": "code",
   "execution_count": 4,
   "metadata": {},
   "outputs": [
    {
     "data": {
      "application/vnd.jupyter.extensible.alpha+json": {
       "url": "data:text/javascript;base64,CmV4cG9ydCBhc3luYyBmdW5jdGlvbiByZW5kZXJGdW5jdGlvbihvcHRpb25zKSB7CiAgICBjb25zdCBzdGF0dXMgPSBkb2N1bWVudC5jcmVhdGVFbGVtZW50KCdkaXYnKTsKICAgIHN0YXR1cy5zdHlsZS5iYWNrZ3JvdW5kID0gJ3JlZCc7CiAgICBzdGF0dXMudGV4dENvbnRlbnQgPSAnTm8gY29tbXMnOwogICAgb3B0aW9ucy5ub2RlLmFwcGVuZENoaWxkKHN0YXR1cyk7CiAgICAgICAgCiAgICBjb25zdCBjb21tVGFyZ2V0TmFtZSA9IG9wdGlvbnMuZGF0YS5kYXRhWydhcHBsaWNhdGlvbi92bmQubm90ZWJvb2suanNvbiddLmNvbW1fdGFyZ2V0X25hbWU7CiAgICBjb25zdCBjb21tcyA9IGF3YWl0IG9wdGlvbnMuY3JlYXRlQ29tbShjb21tVGFyZ2V0TmFtZSk7CiAgICBwcm9jZXNzTWVzc2FnZXMoY29tbXMpOwogICAgCiAgICBhc3luYyBmdW5jdGlvbiBwcm9jZXNzTWVzc2FnZXMoY29tbXMpIHsKICAgICAgICBsZXQgcGFzc2VkID0gZmFsc2U7CiAgICAgICAgZm9yIGF3YWl0IChjb25zdCBtZXNzYWdlIG9mIGNvbW1zLm1lc3NhZ2VzKSB7CiAgICAgICAgICAgIGlmIChtZXNzYWdlLmRhdGEucGFzc2VkKSB7CiAgICAgICAgICAgICAgICBwYXNzZWQgPSB0cnVlOwogICAgICAgICAgICAgICAgY29tbXMuY2xvc2UoKTsKICAgICAgICAgICAgfQogICAgICAgIH0KICAgICAgICBpZiAocGFzc2VkKSB7CiAgICAgICAgICAgIHN0YXR1cy5zdHlsZS5iYWNrZ3JvdW5kID0gJ2xpbWUnOwogICAgICAgICAgICBzdGF0dXMudGV4dENvbnRlbnQgPSAncGFzc2VkJzsKICAgICAgICB9CiAgICB9Cn0K"
      },
      "application/vnd.notebook.json": {
       "comm_target_name": "my_comm_channel"
      },
      "text/plain": [
       "<__main__.ExtensibleModule object>"
      ]
     },
     "execution_count": 4,
     "metadata": {},
     "output_type": "execute_result"
    }
   ],
   "source": [
    "import uuid\n",
    "\n",
    "comm_opened = False\n",
    "def my_comm_open(comm, message):\n",
    "    comm.send({'passed': True})\n",
    "\n",
    "get_ipython().kernel.comm_manager.register_target('my_comm_channel', my_comm_open)\n",
    "\n",
    "module = ExtensibleModule(module='''\n",
    "export async function renderFunction(options) {\n",
    "    const status = document.createElement('div');\n",
    "    status.style.background = 'red';\n",
    "    status.textContent = 'No comms';\n",
    "    options.node.appendChild(status);\n",
    "        \n",
    "    const commTargetName = options.data.data['application/vnd.notebook.json'].comm_target_name;\n",
    "    const comms = await options.createComm(commTargetName);\n",
    "    processMessages(comms);\n",
    "    \n",
    "    async function processMessages(comms) {\n",
    "        let passed = false;\n",
    "        for await (const message of comms.messages) {\n",
    "            if (message.data.passed) {\n",
    "                passed = true;\n",
    "                comms.close();\n",
    "            }\n",
    "        }\n",
    "        if (passed) {\n",
    "            status.style.background = 'lime';\n",
    "            status.textContent = 'passed';\n",
    "        }\n",
    "    }\n",
    "}\n",
    "''')\n",
    "module.data['application/vnd.notebook.json'] = {\n",
    "    'comm_target_name': 'my_comm_channel'\n",
    "}\n",
    "module"
   ]
  }
 ],
 "metadata": {
  "kernelspec": {
   "display_name": "Python 3",
   "language": "python",
   "name": "python3"
  },
  "language_info": {
   "codemirror_mode": {
    "name": "ipython",
    "version": 3
   },
   "file_extension": ".py",
   "mimetype": "text/x-python",
   "name": "python",
   "nbconvert_exporter": "python",
   "pygments_lexer": "ipython3",
   "version": "3.8.2"
  }
 },
 "nbformat": 4,
 "nbformat_minor": 4
}
